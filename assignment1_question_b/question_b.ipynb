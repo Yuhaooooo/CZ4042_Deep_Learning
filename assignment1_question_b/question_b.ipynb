{
 "cells": [
  {
   "cell_type": "code",
   "execution_count": 1,
   "metadata": {},
   "outputs": [],
   "source": [
    "import numpy as np \n",
    "import pandas as pd"
   ]
  },
  {
   "cell_type": "code",
   "execution_count": 2,
   "metadata": {},
   "outputs": [],
   "source": [
    "csv_file = '~/Documents/uni/y3s1/19S1-CE4042-CZ4042-NEURAL NETWORK  DEEP LEARNING/Content/assignment1/admission_predict.csv'\n",
    "\n",
    "df = pd.read_csv(csv_file, index_col=[0])"
   ]
  },
  {
   "cell_type": "code",
   "execution_count": 3,
   "metadata": {},
   "outputs": [
    {
     "data": {
      "text/plain": [
       "(400, 8)"
      ]
     },
     "execution_count": 3,
     "metadata": {},
     "output_type": "execute_result"
    }
   ],
   "source": [
    "df.shape"
   ]
  },
  {
   "cell_type": "code",
   "execution_count": 4,
   "metadata": {
    "scrolled": true
   },
   "outputs": [
    {
     "data": {
      "text/html": [
       "<div>\n",
       "<style scoped>\n",
       "    .dataframe tbody tr th:only-of-type {\n",
       "        vertical-align: middle;\n",
       "    }\n",
       "\n",
       "    .dataframe tbody tr th {\n",
       "        vertical-align: top;\n",
       "    }\n",
       "\n",
       "    .dataframe thead th {\n",
       "        text-align: right;\n",
       "    }\n",
       "</style>\n",
       "<table border=\"1\" class=\"dataframe\">\n",
       "  <thead>\n",
       "    <tr style=\"text-align: right;\">\n",
       "      <th></th>\n",
       "      <th>GRE Score</th>\n",
       "      <th>TOEFL Score</th>\n",
       "      <th>University Rating</th>\n",
       "      <th>SOP</th>\n",
       "      <th>LOR</th>\n",
       "      <th>CGPA</th>\n",
       "      <th>Research</th>\n",
       "      <th>Chance of Admit</th>\n",
       "    </tr>\n",
       "    <tr>\n",
       "      <th>Serial No.</th>\n",
       "      <th></th>\n",
       "      <th></th>\n",
       "      <th></th>\n",
       "      <th></th>\n",
       "      <th></th>\n",
       "      <th></th>\n",
       "      <th></th>\n",
       "      <th></th>\n",
       "    </tr>\n",
       "  </thead>\n",
       "  <tbody>\n",
       "    <tr>\n",
       "      <th>1</th>\n",
       "      <td>337</td>\n",
       "      <td>118</td>\n",
       "      <td>4</td>\n",
       "      <td>4.5</td>\n",
       "      <td>4.5</td>\n",
       "      <td>9.65</td>\n",
       "      <td>1</td>\n",
       "      <td>0.92</td>\n",
       "    </tr>\n",
       "    <tr>\n",
       "      <th>2</th>\n",
       "      <td>324</td>\n",
       "      <td>107</td>\n",
       "      <td>4</td>\n",
       "      <td>4.0</td>\n",
       "      <td>4.5</td>\n",
       "      <td>8.87</td>\n",
       "      <td>1</td>\n",
       "      <td>0.76</td>\n",
       "    </tr>\n",
       "    <tr>\n",
       "      <th>3</th>\n",
       "      <td>316</td>\n",
       "      <td>104</td>\n",
       "      <td>3</td>\n",
       "      <td>3.0</td>\n",
       "      <td>3.5</td>\n",
       "      <td>8.00</td>\n",
       "      <td>1</td>\n",
       "      <td>0.72</td>\n",
       "    </tr>\n",
       "    <tr>\n",
       "      <th>4</th>\n",
       "      <td>322</td>\n",
       "      <td>110</td>\n",
       "      <td>3</td>\n",
       "      <td>3.5</td>\n",
       "      <td>2.5</td>\n",
       "      <td>8.67</td>\n",
       "      <td>1</td>\n",
       "      <td>0.80</td>\n",
       "    </tr>\n",
       "    <tr>\n",
       "      <th>5</th>\n",
       "      <td>314</td>\n",
       "      <td>103</td>\n",
       "      <td>2</td>\n",
       "      <td>2.0</td>\n",
       "      <td>3.0</td>\n",
       "      <td>8.21</td>\n",
       "      <td>0</td>\n",
       "      <td>0.65</td>\n",
       "    </tr>\n",
       "  </tbody>\n",
       "</table>\n",
       "</div>"
      ],
      "text/plain": [
       "            GRE Score  TOEFL Score  University Rating  SOP  LOR  CGPA  \\\n",
       "Serial No.                                                              \n",
       "1                 337          118                  4  4.5  4.5  9.65   \n",
       "2                 324          107                  4  4.0  4.5  8.87   \n",
       "3                 316          104                  3  3.0  3.5  8.00   \n",
       "4                 322          110                  3  3.5  2.5  8.67   \n",
       "5                 314          103                  2  2.0  3.0  8.21   \n",
       "\n",
       "            Research  Chance of Admit  \n",
       "Serial No.                             \n",
       "1                  1             0.92  \n",
       "2                  1             0.76  \n",
       "3                  1             0.72  \n",
       "4                  1             0.80  \n",
       "5                  0             0.65  "
      ]
     },
     "execution_count": 4,
     "metadata": {},
     "output_type": "execute_result"
    }
   ],
   "source": [
    "df.head()"
   ]
  },
  {
   "cell_type": "markdown",
   "metadata": {},
   "source": [
    "## Data Preperation"
   ]
  },
  {
   "cell_type": "code",
   "execution_count": 5,
   "metadata": {},
   "outputs": [
    {
     "data": {
      "text/plain": [
       "((280, 7), (120, 7), (280, 1), (120, 1))"
      ]
     },
     "execution_count": 5,
     "metadata": {},
     "output_type": "execute_result"
    }
   ],
   "source": [
    "from sklearn.model_selection import train_test_split\n",
    "\n",
    "seed = 10\n",
    "\n",
    "np.random.seed(seed)\n",
    "\n",
    "data = df.values\n",
    "np.random.shuffle(data)\n",
    "\n",
    "X = data[:, :-1]\n",
    "y = data[:, -1].reshape(-1,1)\n",
    "\n",
    "def scale(X, decimals):\n",
    "    return np.round((X - np.mean(X, axis=0))/ np.std(X, axis=0), decimals=decimals)\n",
    "\n",
    "X = scale(X, 4)\n",
    "\n",
    "X_train, X_test, y_train, y_test = train_test_split(X, y, test_size=0.3, random_state=42)\n",
    "\n",
    "X_train.shape, X_test.shape, y_train.shape, y_test.shape"
   ]
  },
  {
   "cell_type": "markdown",
   "metadata": {},
   "source": [
    "## Define all libraries and functions needed"
   ]
  },
  {
   "cell_type": "code",
   "execution_count": 6,
   "metadata": {},
   "outputs": [
    {
     "name": "stderr",
     "output_type": "stream",
     "text": [
      "/Users/heyuhao/anaconda3/lib/python3.6/site-packages/h5py/__init__.py:36: FutureWarning: Conversion of the second argument of issubdtype from `float` to `np.floating` is deprecated. In future, it will be treated as `np.float64 == np.dtype(float).type`.\n",
      "  from ._conv import register_converters as _register_converters\n",
      "Using TensorFlow backend.\n"
     ]
    }
   ],
   "source": [
    "from keras.models import Sequential\n",
    "from keras.layers import Dense\n",
    "from keras.layers import Dropout\n",
    "from keras import optimizers\n",
    "from keras.regularizers import l2\n",
    "\n",
    "from sklearn.metrics import mean_squared_error\n",
    "\n",
    "import seaborn as sns\n",
    "import matplotlib.pyplot as plt\n",
    "%matplotlib inline"
   ]
  },
  {
   "cell_type": "markdown",
   "metadata": {},
   "source": [
    "## Q1"
   ]
  },
  {
   "cell_type": "code",
   "execution_count": 7,
   "metadata": {
    "scrolled": true
   },
   "outputs": [
    {
     "name": "stdout",
     "output_type": "stream",
     "text": [
      "WARNING:tensorflow:From /Users/heyuhao/anaconda3/lib/python3.6/site-packages/tensorflow/python/framework/op_def_library.py:263: colocate_with (from tensorflow.python.framework.ops) is deprecated and will be removed in a future version.\n",
      "Instructions for updating:\n",
      "Colocations handled automatically by placer.\n",
      "WARNING:tensorflow:From /Users/heyuhao/anaconda3/lib/python3.6/site-packages/tensorflow/python/ops/math_ops.py:3066: to_int32 (from tensorflow.python.ops.math_ops) is deprecated and will be removed in a future version.\n",
      "Instructions for updating:\n",
      "Use tf.cast instead.\n",
      "100 0.033710671588778496\n",
      "200 0.024749319752057394\n",
      "300 0.02138056649516026\n",
      "400 0.019431484366456666\n",
      "500 0.018084276715914407\n",
      "600 0.01708941931525866\n",
      "700 0.016332504029075306\n",
      "800 0.01574042849242687\n",
      "900 0.01524644394715627\n",
      "1000 0.014823542286952337\n",
      "1100 0.014472523890435695\n",
      "1200 0.014170759171247483\n",
      "1300 0.013895522678891818\n",
      "1400 0.01364471527437369\n",
      "1500 0.013414090933899085\n",
      "1600 0.013202842883765697\n",
      "1700 0.013012994825839997\n",
      "1800 0.012825616573294004\n",
      "1900 0.012659501160184543\n",
      "2000 0.012502263734738032\n",
      "2100 0.012356318533420563\n",
      "2200 0.012221368153889973\n",
      "2300 0.012083962994317214\n",
      "2400 0.011952485019961993\n",
      "2500 0.011825671605765819\n",
      "2600 0.011697390985985597\n",
      "2700 0.011579793660591047\n",
      "2800 0.011467948214461406\n"
     ]
    }
   ],
   "source": [
    "#a)\n",
    "\n",
    "lr = 1e-3\n",
    "decay = 1e-3\n",
    "batch_size = 8\n",
    "epochs = 10000\n",
    "epochs_interval =100\n",
    "early_stop_threshold = 1e-2\n",
    "\n",
    "model = Sequential([\n",
    "    Dense(10, input_dim=X_train.shape[1], activation='relu', kernel_initializer='lecun_normal', kernel_regularizer=l2(decay)),\n",
    "    Dense(y_train.shape[1], kernel_initializer='he_normal', kernel_regularizer=l2(decay))\n",
    "    ])\n",
    "\n",
    "model.compile(optimizer=optimizers.SGD(lr=lr),\n",
    "                  loss='mse')\n",
    "\n",
    "val_loss=[100]\n",
    "\n",
    "for i in range(epochs//epochs_interval):\n",
    "    h = model.fit(X_train, y_train, batch_size=batch_size, epochs=epochs_interval, verbose=0, validation_data=(X_test, y_test), shuffle=True)\n",
    "    val_loss.append(h.history['val_loss'][-1])\n",
    "    print(epochs_interval*(i+1),val_loss[-1])\n",
    "    \n",
    "    # if val loss increase less than early stop thrshold, then stop\n",
    "    if val_loss[-1] * (1+early_stop_threshold) > val_loss[-2]:\n",
    "        break\n",
    "        \n",
    "\n",
    "# plt.figure()\n",
    "# plt.plot(h.history['loss'])\n",
    "# plt.plot(h.history['val_loss'])\n",
    "# plt.title('mse')\n",
    "# plt.xlabel('epoch')\n",
    "# plt.legend(['train_mean_squared_error', 'val_mean_squared_error',], loc='upper left')"
   ]
  },
  {
   "cell_type": "code",
   "execution_count": 8,
   "metadata": {},
   "outputs": [
    {
     "name": "stdout",
     "output_type": "stream",
     "text": [
      "(50, 7) (50, 1)\n",
      "mean root square error:  0.0689779303188416\n"
     ]
    },
    {
     "data": {
      "text/plain": [
       "<matplotlib.legend.Legend at 0x12c1bbbe0>"
      ]
     },
     "execution_count": 8,
     "metadata": {},
     "output_type": "execute_result"
    },
    {
     "data": {
      "image/png": "[encoded data removed]",
      "text/plain": [
       "<Figure size 432x288 with 1 Axes>"
      ]
     },
     "metadata": {},
     "output_type": "display_data"
    }
   ],
   "source": [
    "# c)\n",
    "_, X_test_50, _, y_test_50 = train_test_split(X_test, y_test, test_size=50, random_state=42)\n",
    "print(X_test_50.shape, y_test_50.shape)\n",
    "\n",
    "y_pred_50 = model.predict(x=X_test_50)\n",
    "print('mean root square error: ', np.sqrt(mean_squared_error(y_test_50, y_pred_50)))\n",
    "\n",
    "plt.figure()\n",
    "plt.plot(y_test_50, 'ro')\n",
    "plt.plot(y_pred_50, 'b+')\n",
    "plt.legend(['True Value', 'Pred Value',], loc='upper left')"
   ]
  },
  {
   "cell_type": "code",
   "execution_count": null,
   "metadata": {},
   "outputs": [],
   "source": []
  },
  {
   "cell_type": "markdown",
   "metadata": {},
   "source": [
    "## Q2.Correlation Matrix"
   ]
  },
  {
   "cell_type": "code",
   "execution_count": 14,
   "metadata": {},
   "outputs": [
    {
     "data": {
      "text/html": [
       "<div>\n",
       "<style scoped>\n",
       "    .dataframe tbody tr th:only-of-type {\n",
       "        vertical-align: middle;\n",
       "    }\n",
       "\n",
       "    .dataframe tbody tr th {\n",
       "        vertical-align: top;\n",
       "    }\n",
       "\n",
       "    .dataframe thead th {\n",
       "        text-align: right;\n",
       "    }\n",
       "</style>\n",
       "<table border=\"1\" class=\"dataframe\">\n",
       "  <thead>\n",
       "    <tr style=\"text-align: right;\">\n",
       "      <th></th>\n",
       "      <th>GRE Score</th>\n",
       "      <th>TOEFL Score</th>\n",
       "      <th>University Rating</th>\n",
       "      <th>SOP</th>\n",
       "      <th>LOR</th>\n",
       "      <th>CGPA</th>\n",
       "      <th>Research</th>\n",
       "      <th>Chance of Admit</th>\n",
       "    </tr>\n",
       "  </thead>\n",
       "  <tbody>\n",
       "    <tr>\n",
       "      <th>GRE Score</th>\n",
       "      <td>1.000000</td>\n",
       "      <td>0.835977</td>\n",
       "      <td>0.668976</td>\n",
       "      <td>0.612831</td>\n",
       "      <td>0.557555</td>\n",
       "      <td>0.833060</td>\n",
       "      <td>0.580391</td>\n",
       "      <td>0.802610</td>\n",
       "    </tr>\n",
       "    <tr>\n",
       "      <th>TOEFL Score</th>\n",
       "      <td>0.835977</td>\n",
       "      <td>1.000000</td>\n",
       "      <td>0.695590</td>\n",
       "      <td>0.657981</td>\n",
       "      <td>0.567721</td>\n",
       "      <td>0.828417</td>\n",
       "      <td>0.489858</td>\n",
       "      <td>0.791594</td>\n",
       "    </tr>\n",
       "    <tr>\n",
       "      <th>University Rating</th>\n",
       "      <td>0.668976</td>\n",
       "      <td>0.695590</td>\n",
       "      <td>1.000000</td>\n",
       "      <td>0.734523</td>\n",
       "      <td>0.660123</td>\n",
       "      <td>0.746479</td>\n",
       "      <td>0.447783</td>\n",
       "      <td>0.711250</td>\n",
       "    </tr>\n",
       "    <tr>\n",
       "      <th>SOP</th>\n",
       "      <td>0.612831</td>\n",
       "      <td>0.657981</td>\n",
       "      <td>0.734523</td>\n",
       "      <td>1.000000</td>\n",
       "      <td>0.729593</td>\n",
       "      <td>0.718144</td>\n",
       "      <td>0.444029</td>\n",
       "      <td>0.675732</td>\n",
       "    </tr>\n",
       "    <tr>\n",
       "      <th>LOR</th>\n",
       "      <td>0.557555</td>\n",
       "      <td>0.567721</td>\n",
       "      <td>0.660123</td>\n",
       "      <td>0.729593</td>\n",
       "      <td>1.000000</td>\n",
       "      <td>0.670211</td>\n",
       "      <td>0.396859</td>\n",
       "      <td>0.669889</td>\n",
       "    </tr>\n",
       "    <tr>\n",
       "      <th>CGPA</th>\n",
       "      <td>0.833060</td>\n",
       "      <td>0.828417</td>\n",
       "      <td>0.746479</td>\n",
       "      <td>0.718144</td>\n",
       "      <td>0.670211</td>\n",
       "      <td>1.000000</td>\n",
       "      <td>0.521654</td>\n",
       "      <td>0.873289</td>\n",
       "    </tr>\n",
       "    <tr>\n",
       "      <th>Research</th>\n",
       "      <td>0.580391</td>\n",
       "      <td>0.489858</td>\n",
       "      <td>0.447783</td>\n",
       "      <td>0.444029</td>\n",
       "      <td>0.396859</td>\n",
       "      <td>0.521654</td>\n",
       "      <td>1.000000</td>\n",
       "      <td>0.553202</td>\n",
       "    </tr>\n",
       "    <tr>\n",
       "      <th>Chance of Admit</th>\n",
       "      <td>0.802610</td>\n",
       "      <td>0.791594</td>\n",
       "      <td>0.711250</td>\n",
       "      <td>0.675732</td>\n",
       "      <td>0.669889</td>\n",
       "      <td>0.873289</td>\n",
       "      <td>0.553202</td>\n",
       "      <td>1.000000</td>\n",
       "    </tr>\n",
       "  </tbody>\n",
       "</table>\n",
       "</div>"
      ],
      "text/plain": [
       "                   GRE Score  TOEFL Score  University Rating       SOP  \\\n",
       "GRE Score           1.000000     0.835977           0.668976  0.612831   \n",
       "TOEFL Score         0.835977     1.000000           0.695590  0.657981   \n",
       "University Rating   0.668976     0.695590           1.000000  0.734523   \n",
       "SOP                 0.612831     0.657981           0.734523  1.000000   \n",
       "LOR                 0.557555     0.567721           0.660123  0.729593   \n",
       "CGPA                0.833060     0.828417           0.746479  0.718144   \n",
       "Research            0.580391     0.489858           0.447783  0.444029   \n",
       "Chance of Admit     0.802610     0.791594           0.711250  0.675732   \n",
       "\n",
       "                        LOR      CGPA  Research  Chance of Admit  \n",
       "GRE Score          0.557555  0.833060  0.580391         0.802610  \n",
       "TOEFL Score        0.567721  0.828417  0.489858         0.791594  \n",
       "University Rating  0.660123  0.746479  0.447783         0.711250  \n",
       "SOP                0.729593  0.718144  0.444029         0.675732  \n",
       "LOR                1.000000  0.670211  0.396859         0.669889  \n",
       "CGPA               0.670211  1.000000  0.521654         0.873289  \n",
       "Research           0.396859  0.521654  1.000000         0.553202  \n",
       "Chance of Admit    0.669889  0.873289  0.553202         1.000000  "
      ]
     },
     "execution_count": 14,
     "metadata": {},
     "output_type": "execute_result"
    }
   ],
   "source": [
    "df.corr()"
   ]
  },
  {
   "cell_type": "code",
   "execution_count": 15,
   "metadata": {},
   "outputs": [
    {
     "data": {
      "image/png": "[encoded data removed]",
      "text/plain": [
       "<Figure size 432x288 with 2 Axes>"
      ]
     },
     "metadata": {},
     "output_type": "display_data"
    }
   ],
   "source": [
    "corr = df.corr()\n",
    "\n",
    "ax = sns.heatmap(\n",
    "    corr, \n",
    "    vmin=-1, vmax=1, center=0,\n",
    "    cmap=sns.diverging_palette(20, 220, n=200),\n",
    "    square=True\n",
    ")\n"
   ]
  },
  {
   "cell_type": "code",
   "execution_count": 16,
   "metadata": {},
   "outputs": [
    {
     "data": {
      "text/plain": [
       "('GRE Score', 'TOEFL Score', 0.8359768030143953)"
      ]
     },
     "execution_count": 16,
     "metadata": {},
     "output_type": "execute_result"
    }
   ],
   "source": [
    "#a) most correlated features\n",
    "max_corr_extent=0\n",
    "max_corr_index=(-1,-1)\n",
    "for i in range(len(corr)-1):\n",
    "    for j in range(i+1, len(corr)-1):\n",
    "        if corr.iloc[i,j] > max_corr_extent:\n",
    "            max_corr_extent = corr.iloc[i,j]\n",
    "            max_corr_index=(i,j)\n",
    "            \n",
    "corr.columns[max_corr_index[0]], corr.columns[max_corr_index[1]], max_corr_extent"
   ]
  },
  {
   "cell_type": "code",
   "execution_count": 17,
   "metadata": {},
   "outputs": [
    {
     "data": {
      "text/plain": [
       "('CGPA', 0.8732890993553011)"
      ]
     },
     "execution_count": 17,
     "metadata": {},
     "output_type": "execute_result"
    }
   ],
   "source": [
    "#b) \n",
    "related_feature_of_admit = [(corr.columns[i], corr.iloc[-1, i]) for i in (np.argsort(corr.iloc[-1,:-1].tolist())[::-1])]\n",
    "related_feature_of_admit[0]"
   ]
  },
  {
   "cell_type": "markdown",
   "metadata": {},
   "source": [
    "## Q3 Recuisive Feature Elimination"
   ]
  },
  {
   "cell_type": "code",
   "execution_count": 10,
   "metadata": {
    "scrolled": true
   },
   "outputs": [
    {
     "name": "stdout",
     "output_type": "stream",
     "text": [
      "['GRE Score', 'TOEFL Score', 'University Rating', 'SOP', 'LOR', 'CGPA', 'Research'] \n",
      "\n",
      "\n",
      "removed GRE Score...\n",
      "feature kept: ['TOEFL Score', 'University Rating', 'SOP', 'LOR', 'CGPA', 'Research']\n",
      "training shape: (280, 6)\n",
      "mse: 0.01006181004146735\n",
      "\n",
      "removed TOEFL Score...\n",
      "feature kept: ['GRE Score', 'University Rating', 'SOP', 'LOR', 'CGPA', 'Research']\n",
      "training shape: (280, 6)\n",
      "mse: 0.014574812538921834\n",
      "\n",
      "removed University Rating...\n",
      "feature kept: ['GRE Score', 'TOEFL Score', 'SOP', 'LOR', 'CGPA', 'Research']\n",
      "training shape: (280, 6)\n",
      "mse: 0.01132212948674957\n",
      "\n",
      "removed SOP...\n",
      "feature kept: ['GRE Score', 'TOEFL Score', 'University Rating', 'LOR', 'CGPA', 'Research']\n",
      "training shape: (280, 6)\n",
      "mse: 0.011093617292741935\n",
      "\n",
      "removed LOR...\n",
      "feature kept: ['GRE Score', 'TOEFL Score', 'University Rating', 'SOP', 'CGPA', 'Research']\n",
      "training shape: (280, 6)\n",
      "mse: 0.01304549981529514\n",
      "\n",
      "removed CGPA...\n",
      "feature kept: ['GRE Score', 'TOEFL Score', 'University Rating', 'SOP', 'LOR', 'Research']\n",
      "training shape: (280, 6)\n",
      "mse: 0.013039059502383073\n",
      "\n",
      "removed Research...\n",
      "feature kept: ['GRE Score', 'TOEFL Score', 'University Rating', 'SOP', 'LOR', 'CGPA']\n",
      "training shape: (280, 6)\n",
      "mse: 0.012719061908622582\n"
     ]
    },
    {
     "data": {
      "text/plain": [
       "{'GRE Score': 0.01006181004146735,\n",
       " 'TOEFL Score': 0.014574812538921834,\n",
       " 'University Rating': 0.01132212948674957,\n",
       " 'SOP': 0.011093617292741935,\n",
       " 'LOR': 0.01304549981529514,\n",
       " 'CGPA': 0.013039059502383073,\n",
       " 'Research': 0.012719061908622582}"
      ]
     },
     "execution_count": 10,
     "metadata": {},
     "output_type": "execute_result"
    }
   ],
   "source": [
    "#a) keep 6 features\n",
    "\n",
    "features = list(df.columns)[:-1]\n",
    "print(features, '\\n')\n",
    "\n",
    "mse = dict(zip(features, [0 for i in features]))\n",
    "\n",
    "epochs=2800\n",
    "\n",
    "for i in range(len(features)):\n",
    "    \n",
    "    excluded_feature = features[i]\n",
    "    \n",
    "    print(f'\\nremoved {excluded_feature}...')\n",
    "    print(f'feature kept: {[f for f in features if f!=excluded_feature]}')\n",
    "    \n",
    "    X_train_removed, X_test_removed = np.delete(X_train, obj=i, axis=1), np.delete(X_test, obj=i, axis=1)\n",
    "    \n",
    "    print(f'training shape: {X_train_removed.shape}')\n",
    "    \n",
    "    model = Sequential([\n",
    "    Dense(10, input_dim=X_train_removed.shape[1], activation='relu', kernel_initializer='lecun_normal', kernel_regularizer=l2(decay)),\n",
    "    Dense(y_train.shape[1], kernel_initializer='he_normal', kernel_regularizer=l2(decay))\n",
    "    ])\n",
    "\n",
    "    model.compile(optimizer=optimizers.SGD(lr=lr),\n",
    "                  loss='mse')\n",
    "\n",
    "    h = model.fit(X_train_removed, y_train, batch_size=batch_size, epochs=epochs, verbose=0, validation_data=(X_test_removed, y_test), shuffle=True)\n",
    "    \n",
    "    mse[excluded_feature] = h.history['val_loss'][-1]\n",
    "    \n",
    "    print(f'mse: {mse[excluded_feature]}')\n",
    "    \n",
    "mse"
   ]
  },
  {
   "cell_type": "code",
   "execution_count": 16,
   "metadata": {},
   "outputs": [
    {
     "name": "stdout",
     "output_type": "stream",
     "text": [
      "remove,  GRE Score\n",
      "['TOEFL Score', 'University Rating', 'SOP', 'LOR', 'CGPA', 'Research']\n"
     ]
    },
    {
     "data": {
      "text/plain": [
       "((280, 6), (120, 6))"
      ]
     },
     "execution_count": 16,
     "metadata": {},
     "output_type": "execute_result"
    }
   ],
   "source": [
    "# if after removed feature1, then the mse is low, then feature1 is not importrant\n",
    "feature_to_be_removed = min(mse, key=mse.get)\n",
    "print('remove ', feature_to_be_removed)\n",
    "\n",
    "#feature1 - features after removing 1 feature\n",
    "features1 = features.copy()\n",
    "features1.remove(feature_to_be_removed)\n",
    "print(features1)\n",
    "\n",
    "feature_removed_col=np.argmin(list(mse.values()))\n",
    "X_train1, X_test1 = np.delete(X_train, obj=feature_removed_col, axis=1), np.delete(X_test, obj=feature_removed_col, axis=1)\n",
    "X_train1.shape, X_test1.shape"
   ]
  },
  {
   "cell_type": "code",
   "execution_count": null,
   "metadata": {},
   "outputs": [],
   "source": [
    "# removed feature is GRE Score\n",
    "\n",
    "# the reason might be \n",
    "# ('GRE Score', 'TOEFL Score', 0.8359768030143953)\n",
    "# high correlation"
   ]
  },
  {
   "cell_type": "code",
   "execution_count": null,
   "metadata": {},
   "outputs": [],
   "source": []
  },
  {
   "cell_type": "code",
   "execution_count": null,
   "metadata": {},
   "outputs": [],
   "source": [
    "# remove second feature"
   ]
  },
  {
   "cell_type": "code",
   "execution_count": 20,
   "metadata": {
    "scrolled": true
   },
   "outputs": [
    {
     "name": "stdout",
     "output_type": "stream",
     "text": [
      "\n",
      "removed TOEFL Score...\n",
      "feature kept: ['University Rating', 'SOP', 'LOR', 'CGPA', 'Research']\n",
      "training shape: (280, 5)\n",
      "mse: 0.012207423740377029\n",
      "\n",
      "removed University Rating...\n",
      "feature kept: ['TOEFL Score', 'SOP', 'LOR', 'CGPA', 'Research']\n",
      "training shape: (280, 5)\n",
      "mse: 0.015514141879975796\n",
      "\n",
      "removed SOP...\n",
      "feature kept: ['TOEFL Score', 'University Rating', 'LOR', 'CGPA', 'Research']\n",
      "training shape: (280, 5)\n",
      "mse: 0.011512114821622768\n",
      "\n",
      "removed LOR...\n",
      "feature kept: ['TOEFL Score', 'University Rating', 'SOP', 'CGPA', 'Research']\n",
      "training shape: (280, 5)\n",
      "mse: 0.012567080433170001\n",
      "\n",
      "removed CGPA...\n",
      "feature kept: ['TOEFL Score', 'University Rating', 'SOP', 'LOR', 'Research']\n",
      "training shape: (280, 5)\n",
      "mse: 0.012626465223729611\n",
      "\n",
      "removed Research...\n",
      "feature kept: ['TOEFL Score', 'University Rating', 'SOP', 'LOR', 'CGPA']\n",
      "training shape: (280, 5)\n",
      "mse: 0.010937654847900073\n"
     ]
    },
    {
     "data": {
      "text/plain": [
       "{'TOEFL Score': 0.012207423740377029,\n",
       " 'University Rating': 0.015514141879975796,\n",
       " 'SOP': 0.011512114821622768,\n",
       " 'LOR': 0.012567080433170001,\n",
       " 'CGPA': 0.012626465223729611,\n",
       " 'Research': 0.010937654847900073}"
      ]
     },
     "execution_count": 20,
     "metadata": {},
     "output_type": "execute_result"
    }
   ],
   "source": [
    "mse1 = dict(zip(features1, [0 for i in features1]))\n",
    "\n",
    "epochs=2800\n",
    "\n",
    "for i in range(len(features1)):\n",
    "    \n",
    "    excluded_feature = features1[i]\n",
    "    \n",
    "    print(f'\\nremoved {excluded_feature}...')\n",
    "    print(f'feature kept: {[f for f in features1 if f!=excluded_feature]}')\n",
    "    \n",
    "    X_train_removed, X_test_removed = np.delete(X_train1, obj=i, axis=1), np.delete(X_test1, obj=i, axis=1)\n",
    "    \n",
    "    print(f'training shape: {X_train_removed.shape}')\n",
    "    \n",
    "    model = Sequential([\n",
    "    Dense(10, input_dim=X_train_removed.shape[1], activation='relu', kernel_initializer='lecun_normal', kernel_regularizer=l2(decay)),\n",
    "    Dense(y_train.shape[1], kernel_initializer='he_normal', kernel_regularizer=l2(decay))\n",
    "    ])\n",
    "\n",
    "    model.compile(optimizer=optimizers.SGD(lr=lr),\n",
    "                  loss='mse')\n",
    "\n",
    "    h = model.fit(X_train_removed, y_train, batch_size=batch_size, epochs=epochs, verbose=0, validation_data=(X_test_removed, y_test), shuffle=True)\n",
    "    \n",
    "    mse1[excluded_feature] = h.history['val_loss'][-1]\n",
    "    \n",
    "    print(f'mse: {mse1[excluded_feature]}')\n",
    "    \n",
    "mse1"
   ]
  },
  {
   "cell_type": "code",
   "execution_count": 21,
   "metadata": {},
   "outputs": [
    {
     "name": "stdout",
     "output_type": "stream",
     "text": [
      "remove  Research\n",
      "['TOEFL Score', 'University Rating', 'SOP', 'LOR', 'CGPA']\n"
     ]
    },
    {
     "data": {
      "text/plain": [
       "((280, 5), (120, 5))"
      ]
     },
     "execution_count": 21,
     "metadata": {},
     "output_type": "execute_result"
    }
   ],
   "source": [
    "feature_to_be_removed = min(mse1, key=mse1.get)\n",
    "print('remove ', feature_to_be_removed)\n",
    "\n",
    "#feature1 - features after removing 1 feature\n",
    "features2 = features1.copy()\n",
    "features2.remove(feature_to_be_removed)\n",
    "print(features2)\n",
    "\n",
    "feature_removed_col=np.argmin(list(mse1.values()))\n",
    "X_train2, X_test2 = np.delete(X_train1, obj=feature_removed_col, axis=1), np.delete(X_test1, obj=feature_removed_col, axis=1)\n",
    "X_train2.shape, X_test2.shape"
   ]
  },
  {
   "cell_type": "code",
   "execution_count": null,
   "metadata": {},
   "outputs": [],
   "source": [
    "# removed feature is GRE Score\n",
    "\n",
    "# the reason might be \n",
    "# low correlation with y"
   ]
  },
  {
   "cell_type": "markdown",
   "metadata": {},
   "source": [
    "## Q4"
   ]
  },
  {
   "cell_type": "code",
   "execution_count": null,
   "metadata": {},
   "outputs": [],
   "source": [
    "# X_train2, X_test2 is used in Q4"
   ]
  },
  {
   "cell_type": "code",
   "execution_count": null,
   "metadata": {},
   "outputs": [],
   "source": []
  },
  {
   "cell_type": "code",
   "execution_count": null,
   "metadata": {},
   "outputs": [],
   "source": []
  },
  {
   "cell_type": "code",
   "execution_count": null,
   "metadata": {},
   "outputs": [],
   "source": []
  },
  {
   "cell_type": "code",
   "execution_count": null,
   "metadata": {},
   "outputs": [],
   "source": []
  },
  {
   "cell_type": "code",
   "execution_count": null,
   "metadata": {},
   "outputs": [],
   "source": []
  }
 ],
 "metadata": {
  "kernelspec": {
   "display_name": "Python 3",
   "language": "python",
   "name": "python3"
  },
  "language_info": {
   "codemirror_mode": {
    "name": "ipython",
    "version": 3
   },
   "file_extension": ".py",
   "mimetype": "text/x-python",
   "name": "python",
   "nbconvert_exporter": "python",
   "pygments_lexer": "ipython3",
   "version": "3.6.5"
  }
 },
 "nbformat": 4,
 "nbformat_minor": 2
}
