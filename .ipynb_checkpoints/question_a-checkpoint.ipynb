{
 "cells": [
  {
   "cell_type": "code",
   "execution_count": 1,
   "metadata": {
    "scrolled": true
   },
   "outputs": [
    {
     "name": "stderr",
     "output_type": "stream",
     "text": [
      "c:\\users\\ligua\\appdata\\local\\programs\\python\\python36\\lib\\site-packages\\tensorflow\\python\\framework\\dtypes.py:516: FutureWarning: Passing (type, 1) or '1type' as a synonym of type is deprecated; in a future version of numpy, it will be understood as (type, (1,)) / '(1,)type'.\n",
      "  _np_qint8 = np.dtype([(\"qint8\", np.int8, 1)])\n",
      "c:\\users\\ligua\\appdata\\local\\programs\\python\\python36\\lib\\site-packages\\tensorflow\\python\\framework\\dtypes.py:517: FutureWarning: Passing (type, 1) or '1type' as a synonym of type is deprecated; in a future version of numpy, it will be understood as (type, (1,)) / '(1,)type'.\n",
      "  _np_quint8 = np.dtype([(\"quint8\", np.uint8, 1)])\n",
      "c:\\users\\ligua\\appdata\\local\\programs\\python\\python36\\lib\\site-packages\\tensorflow\\python\\framework\\dtypes.py:518: FutureWarning: Passing (type, 1) or '1type' as a synonym of type is deprecated; in a future version of numpy, it will be understood as (type, (1,)) / '(1,)type'.\n",
      "  _np_qint16 = np.dtype([(\"qint16\", np.int16, 1)])\n",
      "c:\\users\\ligua\\appdata\\local\\programs\\python\\python36\\lib\\site-packages\\tensorflow\\python\\framework\\dtypes.py:519: FutureWarning: Passing (type, 1) or '1type' as a synonym of type is deprecated; in a future version of numpy, it will be understood as (type, (1,)) / '(1,)type'.\n",
      "  _np_quint16 = np.dtype([(\"quint16\", np.uint16, 1)])\n",
      "c:\\users\\ligua\\appdata\\local\\programs\\python\\python36\\lib\\site-packages\\tensorflow\\python\\framework\\dtypes.py:520: FutureWarning: Passing (type, 1) or '1type' as a synonym of type is deprecated; in a future version of numpy, it will be understood as (type, (1,)) / '(1,)type'.\n",
      "  _np_qint32 = np.dtype([(\"qint32\", np.int32, 1)])\n",
      "c:\\users\\ligua\\appdata\\local\\programs\\python\\python36\\lib\\site-packages\\tensorflow\\python\\framework\\dtypes.py:525: FutureWarning: Passing (type, 1) or '1type' as a synonym of type is deprecated; in a future version of numpy, it will be understood as (type, (1,)) / '(1,)type'.\n",
      "  np_resource = np.dtype([(\"resource\", np.ubyte, 1)])\n",
      "c:\\users\\ligua\\appdata\\local\\programs\\python\\python36\\lib\\site-packages\\tensorboard\\compat\\tensorflow_stub\\dtypes.py:541: FutureWarning: Passing (type, 1) or '1type' as a synonym of type is deprecated; in a future version of numpy, it will be understood as (type, (1,)) / '(1,)type'.\n",
      "  _np_qint8 = np.dtype([(\"qint8\", np.int8, 1)])\n",
      "c:\\users\\ligua\\appdata\\local\\programs\\python\\python36\\lib\\site-packages\\tensorboard\\compat\\tensorflow_stub\\dtypes.py:542: FutureWarning: Passing (type, 1) or '1type' as a synonym of type is deprecated; in a future version of numpy, it will be understood as (type, (1,)) / '(1,)type'.\n",
      "  _np_quint8 = np.dtype([(\"quint8\", np.uint8, 1)])\n",
      "c:\\users\\ligua\\appdata\\local\\programs\\python\\python36\\lib\\site-packages\\tensorboard\\compat\\tensorflow_stub\\dtypes.py:543: FutureWarning: Passing (type, 1) or '1type' as a synonym of type is deprecated; in a future version of numpy, it will be understood as (type, (1,)) / '(1,)type'.\n",
      "  _np_qint16 = np.dtype([(\"qint16\", np.int16, 1)])\n",
      "c:\\users\\ligua\\appdata\\local\\programs\\python\\python36\\lib\\site-packages\\tensorboard\\compat\\tensorflow_stub\\dtypes.py:544: FutureWarning: Passing (type, 1) or '1type' as a synonym of type is deprecated; in a future version of numpy, it will be understood as (type, (1,)) / '(1,)type'.\n",
      "  _np_quint16 = np.dtype([(\"quint16\", np.uint16, 1)])\n",
      "c:\\users\\ligua\\appdata\\local\\programs\\python\\python36\\lib\\site-packages\\tensorboard\\compat\\tensorflow_stub\\dtypes.py:545: FutureWarning: Passing (type, 1) or '1type' as a synonym of type is deprecated; in a future version of numpy, it will be understood as (type, (1,)) / '(1,)type'.\n",
      "  _np_qint32 = np.dtype([(\"qint32\", np.int32, 1)])\n",
      "c:\\users\\ligua\\appdata\\local\\programs\\python\\python36\\lib\\site-packages\\tensorboard\\compat\\tensorflow_stub\\dtypes.py:550: FutureWarning: Passing (type, 1) or '1type' as a synonym of type is deprecated; in a future version of numpy, it will be understood as (type, (1,)) / '(1,)type'.\n",
      "  np_resource = np.dtype([(\"resource\", np.ubyte, 1)])\n"
     ]
    }
   ],
   "source": [
    "import math\n",
    "import tensorflow as tf\n",
    "import numpy as np\n",
    "import pylab as plt"
   ]
  },
  {
   "cell_type": "code",
   "execution_count": 2,
   "metadata": {},
   "outputs": [],
   "source": [
    "tf.compat.v1.logging.set_verbosity(tf.compat.v1.logging.ERROR)\n",
    "\n",
    "# scale data\n",
    "def scale(X, X_min, X_max):\n",
    "    return (X - X_min)/(X_max-X_min)\n",
    "\n",
    "NUM_FEATURES = 21\n",
    "NUM_CLASSES = 3\n",
    "\n",
    "learning_rate = 0.01\n",
    "epochs = 5000\n",
    "num_neurons = 10\n",
    "seed = 10\n",
    "np.random.seed(seed)"
   ]
  },
  {
   "cell_type": "code",
   "execution_count": 3,
   "metadata": {},
   "outputs": [],
   "source": [
    "# Define the feedforward network\n",
    "def ffn(input_feature, hidden_layer_neuron_num):\n",
    "    with tf.name_scope('hidden_layer'):\n",
    "        weights = tf.Variable(\n",
    "            tf.truncated_normal(\n",
    "                [NUM_FEATURES, hidden_layer_neuron_num], \n",
    "                stddev=1.0/math.sqrt(float(NUM_FEATURES))),\n",
    "            name='weights')\n",
    "        biases = tf.Variable(\n",
    "            tf.zeros([hidden_layer_neuron_num]),\n",
    "            name='biases')\n",
    "        hidden = tf.nn.relu(tf.matmul(input_feature, weights) + biases)\n",
    "    with tf.name_scope('softmax_output'):\n",
    "            weights = tf.Variable(\n",
    "                tf.truncated_normal(\n",
    "                    [hidden_layer_neuron_num, NUM_CLASSES], \n",
    "                    stddev=1.0/math.sqrt(float(NUM_FEATURES))),\n",
    "                name='weights')\n",
    "            biases = tf.Variable(\n",
    "                tf.zeros([NUM_CLASSES]),\n",
    "                name='biases')\n",
    "            logits = tf.matmul(hidden, weights) + biases\n",
    "    return logits\n",
    " "
   ]
  },
  {
   "cell_type": "code",
   "execution_count": 4,
   "metadata": {},
   "outputs": [],
   "source": [
    "def train(batch_size):\n",
    "    all_input = np.genfromtxt('ctg_data_cleaned.csv', delimiter= ',')\n",
    "    all_X, train_Y = train_input[1:, :21], train_input[1:,-1].astype(int)\n",
    "    all_X = scale(all_X, np.min(all_X, axis=0), np.max(all_X, axis=0))\n",
    "\n",
    "    trainY = np.zeros((train_Y.shape[0], NUM_CLASSES))\n",
    "    trainY[np.arange(train_Y.shape[0]), train_Y-1] = 1 #one hot matrix\n",
    "\n",
    "    # experiment with small datasets\n",
    "    num_of_items = all_X.shape[0]\n",
    "    trainX = all_X[0:int(num_of_items * 0.7)]\n",
    "    testX = all_X[int(num_of_items * 0.7):]\n",
    "    trainY = trainY[:1000]\n",
    "    \n",
    "\n",
    "    n = trainX.shape[0]\n",
    "    x = tf.placeholder(tf.float32, [None, NUM_FEATURES])\n",
    "    y_ = tf.placeholder(tf.float32, [None, NUM_CLASSES])\n",
    "    y = ffn(x, 10)\n",
    "\n",
    "    with tf.name_scope('cross_entropy'):\n",
    "        cross_entropy = tf.nn.softmax_cross_entropy_with_logits_v2(labels=y_, logits=y)\n",
    "        loss = tf.reduce_mean(cross_entropy)\n",
    "    \n",
    "    optimizer = tf.train.GradientDescentOptimizer(learning_rate)\n",
    "    global_step = tf.Variable(0, name='global_step', trainable=False)\n",
    "    train_op = optimizer.minimize(loss)\n",
    "\n",
    "    with tf.name_scope('accuracy'):\n",
    "        correct_prediction = tf.equal(tf.argmax(y, 1), tf.argmax(y_, 1))\n",
    "        correct_prediction = tf.cast(correct_prediction, tf.float32)\n",
    "        accuracy = tf.reduce_mean(correct_prediction)\n",
    "\n",
    "    with tf.Session() as sess:\n",
    "        sess.run(tf.global_variables_initializer())\n",
    "        train_acc = []\n",
    "        test_acc = []\n",
    "        \n",
    "        for i in range(1, (epochs + 1)):\n",
    "            num_of_batch =  trainX.shape[0] // batch_size + 1\n",
    "            for j in range(num_of_batch):\n",
    "                first_index = (j - 1) * batch_size\n",
    "                last_index = j * batch_size\n",
    "                if last_index > len(trainX):\n",
    "                    last_index = len(trainX)\n",
    "                train_op.run(feed_dict={x: trainX[first_index:last_index], y_: trainY[first_index:last_index]})\n",
    "            \n",
    "            train_acc.append(accuracy.eval(feed_dict={x: trainX, y_: trainY}))\n",
    "            test_acc.append(accuracy.eval(feed_dict={x: testX, y_: testY}))\n",
    "            if i % 100 == 0:\n",
    "                print('iter %d: train accuracy %g'%(i, train_acc[i - 1]))\n",
    "                print('iter %d: test accuracy %g'%(i, test_acc[i - 1]))\n",
    "\n",
    "        plt.figure(1)\n",
    "        plt.plot(range(epochs), train_acc, 'r')\n",
    "        plt.plot(range(epochs), test_acc, 'g')\n",
    "        plt.xlabel(str(epochs) + ' iterations')\n",
    "        plt.ylabel('Accuracy')\n",
    "        plt"
   ]
  },
  {
   "cell_type": "code",
   "execution_count": 5,
   "metadata": {},
   "outputs": [
    {
     "name": "stdout",
     "output_type": "stream",
     "text": [
      "iter 100: accuracy 0.797\n",
      "iter 200: accuracy 0.856\n",
      "iter 300: accuracy 0.874\n",
      "iter 400: accuracy 0.888\n",
      "iter 500: accuracy 0.888\n",
      "iter 600: accuracy 0.888\n",
      "iter 700: accuracy 0.887\n",
      "iter 800: accuracy 0.883\n",
      "iter 900: accuracy 0.885\n",
      "iter 1000: accuracy 0.889\n",
      "iter 1100: accuracy 0.893\n",
      "iter 1200: accuracy 0.895\n",
      "iter 1300: accuracy 0.896\n",
      "iter 1400: accuracy 0.896\n",
      "iter 1500: accuracy 0.897\n",
      "iter 1600: accuracy 0.898\n",
      "iter 1700: accuracy 0.896\n",
      "iter 1800: accuracy 0.892\n",
      "iter 1900: accuracy 0.893\n",
      "iter 2000: accuracy 0.896\n",
      "iter 2100: accuracy 0.898\n",
      "iter 2200: accuracy 0.899\n",
      "iter 2300: accuracy 0.902\n",
      "iter 2400: accuracy 0.903\n",
      "iter 2500: accuracy 0.904\n",
      "iter 2600: accuracy 0.904\n",
      "iter 2700: accuracy 0.904\n",
      "iter 2800: accuracy 0.906\n",
      "iter 2900: accuracy 0.908\n",
      "iter 3000: accuracy 0.908\n",
      "iter 3100: accuracy 0.908\n",
      "iter 3200: accuracy 0.91\n",
      "iter 3300: accuracy 0.91\n",
      "iter 3400: accuracy 0.911\n",
      "iter 3500: accuracy 0.912\n",
      "iter 3600: accuracy 0.912\n",
      "iter 3700: accuracy 0.911\n",
      "iter 3800: accuracy 0.911\n",
      "iter 3900: accuracy 0.913\n",
      "iter 4000: accuracy 0.911\n",
      "iter 4100: accuracy 0.911\n",
      "iter 4200: accuracy 0.911\n",
      "iter 4300: accuracy 0.91\n",
      "iter 4400: accuracy 0.91\n",
      "iter 4500: accuracy 0.91\n",
      "iter 4600: accuracy 0.909\n",
      "iter 4700: accuracy 0.909\n",
      "iter 4800: accuracy 0.909\n",
      "iter 4900: accuracy 0.91\n",
      "iter 5000: accuracy 0.91\n"
     ]
    },
    {
     "data": {
      "image/png": "[encoded data removed]",
      "text/plain": [
       "<Figure size 432x288 with 1 Axes>"
      ]
     },
     "metadata": {
      "needs_background": "light"
     },
     "output_type": "display_data"
    }
   ],
   "source": [
    "def main():\n",
    "    batch_size = 32\n",
    "    train(batch_size)\n",
    "        \n",
    "if __name__ == '__main__':\n",
    "    main()"
   ]
  }
 ],
 "metadata": {
  "kernelspec": {
   "display_name": "Python 3",
   "language": "python",
   "name": "python3"
  },
  "language_info": {
   "codemirror_mode": {
    "name": "ipython",
    "version": 3
   },
   "file_extension": ".py",
   "mimetype": "text/x-python",
   "name": "python",
   "nbconvert_exporter": "python",
   "pygments_lexer": "ipython3",
   "version": "3.6.2"
  }
 },
 "nbformat": 4,
 "nbformat_minor": 2
}
