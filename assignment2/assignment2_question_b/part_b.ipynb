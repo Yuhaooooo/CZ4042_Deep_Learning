{
 "cells": [
  {
   "cell_type": "code",
   "execution_count": 3,
   "metadata": {},
   "outputs": [
    {
     "name": "stdout",
     "output_type": "stream",
     "text": [
      "/Users/heyuhao/Documents/GitHub/school_project/cz4042/assignment2/assignment2_question_b\r\n"
     ]
    }
   ],
   "source": [
    "!pwd"
   ]
  },
  {
   "cell_type": "code",
   "execution_count": 1,
   "metadata": {
    "scrolled": true
   },
   "outputs": [
    {
     "name": "stdout",
     "output_type": "stream",
     "text": [
      "\u001b[34mother\u001b[m\u001b[m        part_b.ipynb temp.ipynb\r\n"
     ]
    }
   ],
   "source": [
    "!ls"
   ]
  },
  {
   "cell_type": "code",
   "execution_count": 2,
   "metadata": {},
   "outputs": [],
   "source": [
    "import pandas as pd\n",
    "import numpy as np\n",
    "import tensorflow as tf\n",
    "from sklearn.metrics import accuracy_score\n",
    "import re\n",
    "import string\n",
    "from nltk.corpus import stopwords\n",
    "stopwords=set(stopwords.words('english'))\n",
    "import datetime\n",
    "import matplotlib.pyplot as plt\n",
    "import os"
   ]
  },
  {
   "cell_type": "code",
   "execution_count": 14,
   "metadata": {},
   "outputs": [],
   "source": [
    "# MAX_DOCUMENT_LENGTH=100\n",
    "\n",
    "# df_train = pd.read_csv('../train_medium.csv', names=['class', '_', 'text'], usecols=['class', 'text'])\n",
    "# df_test = pd.read_csv('../test_medium.csv', names=['class', '_', 'text'], usecols=['class', 'text'])\n",
    "\n",
    "# train_data = df_train.values\n",
    "# test_data = df_test.values\n",
    "\n",
    "# def clean_text(t):\n",
    "#     #lowercase\n",
    "#     t= t.lower()\n",
    "#     #remove number and punctuation\n",
    "#     t = re.sub(r'([^\\w\\s])|\\d','',t)\n",
    "#     #remove white space\n",
    "#     t = re.sub(r'\\s+',' ',t)\n",
    "#     #remove stopwords\n",
    "#     t = ' '.join([t for t in t.split(' ') if t not in stopwords])\n",
    "#     t = t.strip()\n",
    "#     return t\n",
    "\n",
    "# for pair in train_data:\n",
    "#     pair[1] = clean_text(pair[1])\n",
    "# for pair in test_data:\n",
    "#     pair[1] = clean_text(pair[1])\n",
    "    \n",
    "# train_data = np.array(train_data)\n",
    "# test_data = np.array(test_data)\n",
    "    \n",
    "# x_train = pd.Series(train_data.T[1])\n",
    "# y_train = pd.Series(train_data.T[0])\n",
    "# x_test = pd.Series(test_data.T[1])\n",
    "# y_test = pd.Series(test_data.T[0])\n",
    "\n",
    "# char_processor = tf.contrib.learn.preprocessing.ByteProcessor(MAX_DOCUMENT_LENGTH)\n",
    "# x_train = np.array(list(char_processor.fit_transform(x_train)))\n",
    "# x_test = np.array(list(char_processor.transform(x_test)))\n",
    "# y_train = np.array(y_train.values)\n",
    "# y_test = np.array(y_test.values)\n",
    "\n",
    "# ## save to nparray in data folder\n",
    "# np.save(os.path.join('other', 'npy', 'x_train.npy'), x_train)\n",
    "# np.save(os.path.join('other', 'npy', 'x_test.npy'), x_test)\n",
    "# np.save(os.path.join('other', 'npy', 'y_train.npy'), y_train)\n",
    "# np.save(os.path.join('other', 'npy', 'y_test.npy'), y_test)"
   ]
  },
  {
   "cell_type": "markdown",
   "metadata": {},
   "source": [
    "## Load Data"
   ]
  },
  {
   "cell_type": "code",
   "execution_count": 4,
   "metadata": {},
   "outputs": [],
   "source": [
    "x_train = np.load(os.path.join('other', 'npy', 'x_train.npy'), allow_pickle=True)\n",
    "x_test = np.load(os.path.join('other', 'npy', 'x_test.npy'), allow_pickle=True)\n",
    "y_train = np.load(os.path.join('other', 'npy', 'y_train.npy'), allow_pickle=True)\n",
    "y_test = np.load(os.path.join('other', 'npy', 'y_test.npy'), allow_pickle=True)"
   ]
  },
  {
   "cell_type": "markdown",
   "metadata": {},
   "source": [
    "## Class / Function"
   ]
  },
  {
   "cell_type": "code",
   "execution_count": 5,
   "metadata": {},
   "outputs": [],
   "source": [
    "class TimeRecoder():\n",
    "    start_time = 0\n",
    "    end_time = 0\n",
    "    \n",
    "    def start(self):\n",
    "        self.start_time = datetime.datetime.now()\n",
    "        print('\\n\\n', '-'*10, ' START ', '-'*10, self.start_time, '\\n\\n')\n",
    "        \n",
    "    def end(self):\n",
    "        self.end_time = datetime.datetime.now()\n",
    "        print('\\n\\n', '-'*10, ' END ', '-'*10, self.end_time, '\\n\\n')\n",
    "        self.checkTimeSpan()\n",
    "        \n",
    "    def checkTimeSpan(self):\n",
    "        print('\\n\\n', '-'*10, ' TAKES ', '-'*10, self.end_time - self.start_time, '\\n\\n')"
   ]
  },
  {
   "cell_type": "markdown",
   "metadata": {},
   "source": [
    "## Q1"
   ]
  },
  {
   "cell_type": "code",
   "execution_count": 8,
   "metadata": {
    "scrolled": false
   },
   "outputs": [
    {
     "name": "stdout",
     "output_type": "stream",
     "text": [
      "WARNING:tensorflow:From <ipython-input-8-0c201c06e74b>:24: conv2d (from tensorflow.python.layers.convolutional) is deprecated and will be removed in a future version.\n",
      "Instructions for updating:\n",
      "Use `tf.keras.layers.Conv2D` instead.\n",
      "WARNING:tensorflow:From /Users/heyuhao/opt/anaconda3/lib/python3.7/site-packages/tensorflow_core/python/layers/convolutional.py:424: Layer.apply (from tensorflow.python.keras.engine.base_layer) is deprecated and will be removed in a future version.\n",
      "Instructions for updating:\n",
      "Please use `layer.__call__` method instead.\n",
      "WARNING:tensorflow:From <ipython-input-8-0c201c06e74b>:29: max_pooling2d (from tensorflow.python.layers.pooling) is deprecated and will be removed in a future version.\n",
      "Instructions for updating:\n",
      "Use keras.layers.MaxPooling2D instead.\n",
      "input:  [array([5600,  100,  256,    1], dtype=int32)]\n",
      "conv1:  [array([5600,   81,    1,   10], dtype=int32)]\n",
      "pool1:  [array([5600,   41,    1,   10], dtype=int32)]\n",
      "conv2:  [array([5600,   22,    1,   10], dtype=int32)]\n",
      "pool2:  [array([5600,   11,    1,   10], dtype=int32)]\n",
      "flatten:  [array([5600,  110], dtype=int32)]\n",
      "logits:  [array([5600,   15], dtype=int32)]\n",
      "\n",
      "\n",
      " ----------  START  ---------- 2019-11-13 10:26:59.725430 \n",
      "\n",
      "\n",
      "\n",
      "\n",
      " ----------  END  ---------- 2019-11-13 10:26:59.725534 \n",
      "\n",
      "\n",
      "\n",
      "\n",
      " ----------  TAKES  ---------- 0:00:00.000104 \n",
      "\n",
      "\n"
     ]
    }
   ],
   "source": [
    "MAX_DOCUMENT_LENGTH = 100\n",
    "N_FILTERS = 10\n",
    "FILTER_SHAPE1 = [20, 256]\n",
    "FILTER_SHAPE2 = [20, 1]\n",
    "POOLING_WINDOW = 4\n",
    "POOLING_STRIDE = 2\n",
    "MAX_LABEL = 15\n",
    "no_epochs = 200\n",
    "lr = 0.01\n",
    "\n",
    "tf.reset_default_graph()\n",
    "\n",
    "def char_cnn_model(x):\n",
    "  \n",
    "    input_layer = tf.reshape(\n",
    "      tf.one_hot(x, 256), [-1, MAX_DOCUMENT_LENGTH, 256, 1])\n",
    "\n",
    "    with tf.variable_scope('CNN_Layer1'):\n",
    "        conv1 = tf.layers.conv2d(\n",
    "            input_layer,\n",
    "            filters=N_FILTERS,\n",
    "            kernel_size=FILTER_SHAPE1,\n",
    "            padding='VALID',\n",
    "            activation=tf.nn.relu)\n",
    "        pool1 = tf.layers.max_pooling2d(\n",
    "            conv1,\n",
    "            pool_size=POOLING_WINDOW,\n",
    "            strides=POOLING_STRIDE,\n",
    "            padding='SAME')\n",
    "        \n",
    "    with tf.variable_scope('CNN_Layer2'):\n",
    "        conv2 = tf.layers.conv2d(\n",
    "            pool1,\n",
    "            filters=N_FILTERS,\n",
    "            kernel_size=FILTER_SHAPE2,\n",
    "            padding='VALID',\n",
    "            activation=tf.nn.relu)\n",
    "        pool2 = tf.layers.max_pooling2d(\n",
    "            conv2,\n",
    "            pool_size=POOLING_WINDOW,\n",
    "            strides=POOLING_STRIDE,\n",
    "            padding='SAME')\n",
    "\n",
    "    dim = pool2.get_shape()[1].value * pool2.get_shape()[2].value * pool2.get_shape()[3].value \n",
    "    \n",
    "    with tf.variable_scope('CNN_Flatten'):\n",
    "        flatten = tf.reshape(pool2, [-1, dim])\n",
    "    \n",
    "    with tf.variable_scope('ANN'):\n",
    "        W1 = tf.Variable(tf.truncated_normal([dim, MAX_LABEL], stddev=1.0/np.sqrt(dim)))\n",
    "        b1 = tf.Variable(tf.zeros([MAX_LABEL]))\n",
    "        logits = tf.matmul(flatten, W1) + b1\n",
    "\n",
    "\n",
    "    return input_layer, conv1, pool1, conv2, pool2, flatten, logits\n",
    "\n",
    "# Create the model\n",
    "x = tf.placeholder(tf.int64, [None, MAX_DOCUMENT_LENGTH])\n",
    "y_ = tf.placeholder(tf.int64)\n",
    "\n",
    "inputs, conv1, pool1, conv2, pool2, flatten, logits = char_cnn_model(x)\n",
    "\n",
    "# Optimizer\n",
    "entropy = tf.reduce_mean(tf.nn.softmax_cross_entropy_with_logits_v2(labels=tf.one_hot(y_, MAX_LABEL), logits=logits))\n",
    "train_op = tf.train.AdamOptimizer(lr).minimize(entropy)\n",
    "\n",
    "sess = tf.Session()\n",
    "sess.run(tf.global_variables_initializer())\n",
    "sess.run(tf.local_variables_initializer())\n",
    "\n",
    "print('input: ', sess.run([tf.shape(inputs)], {x: x_train, y_: y_train}))\n",
    "print('conv1: ', sess.run([tf.shape(conv1)], {x: x_train, y_: y_train}))\n",
    "print('pool1: ', sess.run([tf.shape(pool1)], {x: x_train, y_: y_train}))\n",
    "print('conv2: ', sess.run([tf.shape(conv2)], {x: x_train, y_: y_train}))\n",
    "print('pool2: ', sess.run([tf.shape(pool2)], {x: x_train, y_: y_train}))\n",
    "print('flatten: ', sess.run([tf.shape(flatten)], {x: x_train, y_: y_train}))\n",
    "print('logits: ', sess.run([tf.shape(logits)], {x: x_train, y_: y_train}))\n",
    "\n",
    "# entropy_on_training = []\n",
    "# accuracy_on_testing = []\n",
    "\n",
    "timeRecoder = TimeRecoder()\n",
    "timeRecoder.start()\n",
    "\n",
    "# for e in range(no_epochs):\n",
    "    \n",
    "#     # training\n",
    "#     _, loss_  = sess.run([train_op, entropy], {x: x_train, y_: y_train})\n",
    "#     entropy_on_training.append(loss_)\n",
    "    \n",
    "#     # testing\n",
    "#     predict = sess.run([logits], {x: x_test})\n",
    "#     accuracy_on_testing.append(accuracy_score(list(y_test), list(np.argmax(np.array(predict[0]), axis=1))))\n",
    "    \n",
    "     \n",
    "#     print('epoch %d: entropy: %f, accuracy: %f' % (e, entropy_on_training[-1], accuracy_on_testing[-1]))\n",
    "    \n",
    "timeRecoder.end()\n",
    "\n",
    "# np.save(os.path.join('other', 'npy', 'entropy_on_training_q1.npy'), np.array(entropy_on_training))\n",
    "# np.save(os.path.join('other', 'npy', 'accuracy_on_testing_q1.npy'), np.array(accuracy_on_testing))"
   ]
  },
  {
   "cell_type": "code",
   "execution_count": 12,
   "metadata": {},
   "outputs": [
    {
     "data": {
      "image/png": "[encoded data removed]",
      "text/plain": [
       "<Figure size 432x288 with 1 Axes>"
      ]
     },
     "metadata": {
      "needs_background": "light"
     },
     "output_type": "display_data"
    }
   ],
   "source": [
    "entropy_on_training = np.load(os.path.join('other', 'npy', 'entropy_on_training_q1.npy'), allow_pickle=True)\n",
    "accuracy_on_testing = np.load(os.path.join('other', 'npy', 'accuracy_on_testing_q1.npy'), allow_pickle=True)\n",
    "\n",
    "#plot\n",
    "plt.figure()\n",
    "plt.plot(entropy_on_training)\n",
    "plt.plot(accuracy_on_testing)\n",
    "plt.title('entropy / accuracy')\n",
    "plt.xlabel('epoch')\n",
    "plt.legend(['entropy_on_training', 'accuracy_on_testing',], loc='upper left')\n",
    "plt.savefig(os.path.join('other', 'figure', 'q1.png'))"
   ]
  },
  {
   "cell_type": "code",
   "execution_count": null,
   "metadata": {},
   "outputs": [],
   "source": []
  },
  {
   "cell_type": "markdown",
   "metadata": {},
   "source": [
    "## Q2"
   ]
  },
  {
   "cell_type": "code",
   "execution_count": 13,
   "metadata": {},
   "outputs": [
    {
     "name": "stdout",
     "output_type": "stream",
     "text": [
      "input:  [array([5600,  100,  256], dtype=int32)]\n",
      "embedding:  [array([5600,  100,   20,    1], dtype=int32)]\n",
      "conv1:  [array([5600,   81,    1,   10], dtype=int32)]\n",
      "pool1:  [array([5600,   41,    1,   10], dtype=int32)]\n",
      "conv2:  [array([5600,   22,    1,   10], dtype=int32)]\n",
      "pool2:  [array([5600,   11,    1,   10], dtype=int32)]\n",
      "flatten:  [array([5600,  110], dtype=int32)]\n",
      "logits:  [array([5600,   15], dtype=int32)]\n",
      "\n",
      "\n",
      " ----------  START  ---------- 2019-11-13 10:35:56.851149 \n",
      "\n",
      "\n",
      "\n",
      "\n",
      " ----------  END  ---------- 2019-11-13 10:35:56.851263 \n",
      "\n",
      "\n",
      "\n",
      "\n",
      " ----------  TAKES  ---------- 0:00:00.000114 \n",
      "\n",
      "\n"
     ]
    }
   ],
   "source": [
    "MAX_DOCUMENT_LENGTH = 100\n",
    "EMBEDDING_SIZE = 20\n",
    "N_FILTERS = 10\n",
    "FILTER_SHAPE1 = [20, 20]\n",
    "FILTER_SHAPE2 = [20, 1]\n",
    "POOLING_WINDOW = 4\n",
    "POOLING_STRIDE = 2\n",
    "MAX_LABEL = 15\n",
    "\n",
    "no_epochs = 100\n",
    "lr = 0.01\n",
    "\n",
    "tf.reset_default_graph()\n",
    "\n",
    "def char_cnn_model(x):\n",
    "  \n",
    "    input_layer = tf.reshape(\n",
    "      tf.one_hot(x, 256), [-1, MAX_DOCUMENT_LENGTH, 256])\n",
    "    \n",
    "    with tf.variable_scope('Embedding_Layer'):\n",
    "        W1 = tf.Variable(tf.truncated_normal([256, EMBEDDING_SIZE], stddev=2.0/np.sqrt(256)))\n",
    "        b1 = tf.Variable(tf.zeros([EMBEDDING_SIZE]))\n",
    "        embedding = tf.nn.relu(tf.matmul(input_layer, W1) + b1)\n",
    "        embedding = tf.reshape(embedding, [-1, MAX_DOCUMENT_LENGTH, EMBEDDING_SIZE, 1])\n",
    "\n",
    "    with tf.variable_scope('CNN_Layer1'):\n",
    "        conv1 = tf.layers.conv2d(\n",
    "            embedding,\n",
    "            filters=N_FILTERS,\n",
    "            kernel_size=FILTER_SHAPE1,\n",
    "            padding='VALID',\n",
    "            activation=tf.nn.relu)\n",
    "        pool1 = tf.layers.max_pooling2d(\n",
    "            conv1,\n",
    "            pool_size=POOLING_WINDOW,\n",
    "            strides=POOLING_STRIDE,\n",
    "            padding='SAME')\n",
    "        \n",
    "    with tf.variable_scope('CNN_Layer2'):\n",
    "        conv2 = tf.layers.conv2d(\n",
    "            pool1,\n",
    "            filters=N_FILTERS,\n",
    "            kernel_size=FILTER_SHAPE2,\n",
    "            padding='VALID',\n",
    "            activation=tf.nn.relu)\n",
    "        pool2 = tf.layers.max_pooling2d(\n",
    "            conv2,\n",
    "            pool_size=POOLING_WINDOW,\n",
    "            strides=POOLING_STRIDE,\n",
    "            padding='SAME')\n",
    "\n",
    "    dim = pool2.get_shape()[1].value * pool2.get_shape()[2].value * pool2.get_shape()[3].value \n",
    "    \n",
    "    with tf.variable_scope('CNN_Flatten'):\n",
    "        flatten = tf.reshape(pool2, [-1, dim])\n",
    "    \n",
    "    with tf.variable_scope('ANN'):\n",
    "        W1 = tf.Variable(tf.truncated_normal([dim, MAX_LABEL], stddev=1.0/np.sqrt(dim)))\n",
    "        b1 = tf.Variable(tf.zeros([MAX_LABEL]))\n",
    "        logits = tf.matmul(flatten, W1) + b1\n",
    "\n",
    "\n",
    "    return input_layer, embedding, conv1, pool1, conv2, pool2, flatten, logits\n",
    "\n",
    "# Create the model\n",
    "x = tf.placeholder(tf.int64, [None, MAX_DOCUMENT_LENGTH])\n",
    "y_ = tf.placeholder(tf.int64)\n",
    "\n",
    "inputs, embedding, conv1, pool1, conv2, pool2, flatten, logits = char_cnn_model(x)\n",
    "\n",
    "# Optimizer\n",
    "entropy = tf.reduce_mean(tf.nn.softmax_cross_entropy_with_logits_v2(labels=tf.one_hot(y_, MAX_LABEL), logits=logits))\n",
    "train_op = tf.train.AdamOptimizer(lr).minimize(entropy)\n",
    "\n",
    "\n",
    "sess = tf.Session()\n",
    "sess.run(tf.global_variables_initializer())\n",
    "\n",
    "\n",
    "print('input: ', sess.run([tf.shape(inputs)], {x: x_train, y_: y_train}))\n",
    "print('embedding: ', sess.run([tf.shape(embedding)], {x: x_train, y_: y_train}))\n",
    "print('conv1: ', sess.run([tf.shape(conv1)], {x: x_train, y_: y_train}))\n",
    "print('pool1: ', sess.run([tf.shape(pool1)], {x: x_train, y_: y_train}))\n",
    "print('conv2: ', sess.run([tf.shape(conv2)], {x: x_train, y_: y_train}))\n",
    "print('pool2: ', sess.run([tf.shape(pool2)], {x: x_train, y_: y_train}))\n",
    "print('flatten: ', sess.run([tf.shape(flatten)], {x: x_train, y_: y_train}))\n",
    "print('logits: ', sess.run([tf.shape(logits)], {x: x_train, y_: y_train}))\n",
    "\n",
    "# entropy_on_training = []\n",
    "# accuracy_on_testing = []\n",
    "\n",
    "timeRecoder = TimeRecoder()\n",
    "timeRecoder.start()\n",
    "\n",
    "# for e in range(no_epochs):\n",
    "    \n",
    "#     # training\n",
    "#     _, loss_  = sess.run([train_op, entropy], {x: x_train, y_: y_train})\n",
    "#     entropy_on_training.append(loss_)\n",
    "    \n",
    "#     # testing\n",
    "#     predict = sess.run([logits], {x: x_test})\n",
    "#     accuracy_on_testing.append(accuracy_score(list(y_test), list(np.argmax(np.array(predict[0]), axis=1))))\n",
    "    \n",
    "     \n",
    "#     print('epoch %d: entropy: %f, accuracy: %f' % (e, entropy_on_training[-1], accuracy_on_testing[-1]))\n",
    "    \n",
    "timeRecoder.end()\n",
    "\n",
    "# np.save(os.path.join('data', 'entropy_on_training_q2.npy'), np.array(entropy_on_training))\n",
    "# np.save(os.path.join('data', 'accuracy_on_testing_q2.npy'), np.array(accuracy_on_testing))"
   ]
  },
  {
   "cell_type": "code",
   "execution_count": null,
   "metadata": {},
   "outputs": [],
   "source": []
  },
  {
   "cell_type": "code",
   "execution_count": null,
   "metadata": {},
   "outputs": [],
   "source": []
  },
  {
   "cell_type": "code",
   "execution_count": null,
   "metadata": {},
   "outputs": [],
   "source": []
  },
  {
   "cell_type": "code",
   "execution_count": null,
   "metadata": {},
   "outputs": [],
   "source": []
  },
  {
   "cell_type": "code",
   "execution_count": null,
   "metadata": {},
   "outputs": [],
   "source": []
  },
  {
   "cell_type": "code",
   "execution_count": null,
   "metadata": {},
   "outputs": [],
   "source": []
  },
  {
   "cell_type": "code",
   "execution_count": null,
   "metadata": {},
   "outputs": [],
   "source": []
  },
  {
   "cell_type": "code",
   "execution_count": null,
   "metadata": {},
   "outputs": [],
   "source": []
  }
 ],
 "metadata": {
  "kernelspec": {
   "display_name": "Python 3",
   "language": "python",
   "name": "python3"
  },
  "language_info": {
   "codemirror_mode": {
    "name": "ipython",
    "version": 3
   },
   "file_extension": ".py",
   "mimetype": "text/x-python",
   "name": "python",
   "nbconvert_exporter": "python",
   "pygments_lexer": "ipython3",
   "version": "3.7.4"
  }
 },
 "nbformat": 4,
 "nbformat_minor": 2
}
