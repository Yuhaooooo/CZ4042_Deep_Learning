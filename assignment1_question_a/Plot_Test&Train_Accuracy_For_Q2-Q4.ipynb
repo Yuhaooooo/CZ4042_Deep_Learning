{
 "cells": [
  {
   "cell_type": "code",
   "execution_count": null,
   "metadata": {},
   "outputs": [],
   "source": [
    "def main():\n",
    "    data = get_data()\n",
    "    params = []\n",
    "    param = {}\n",
    "    param1['weight_decay_parameter'] = 1e-6\n",
    "    param1['batch_size'] = 64\n",
    "    param1['hidden_layer_neuron_num'] = 10\n",
    "    param1['required'] = 'train accuracy and test accuracy'\n",
    "    param1['hidden_layer_num'] = 1\n",
    "    param1['data'] = data\n",
    "    param2 = param1.copy()\n",
    "    param3 = param1.copy()\n",
    "    \n",
    "    params.append(param1)\n",
    "    param2['hidden_layer_neuron_num'] = 25\n",
    "    params.append(param2)\n",
    "    param3['weight_decay_parameter'] = 0\n",
    "    params.append(param3)\n",
    "    \n",
    "    accs = []\n",
    "    for param in params:\n",
    "        acc = train(param)\n",
    "        accs.append(acc)\n",
    "        \n",
    "    for i in range(len(params)):\n",
    "        plt.figure()\n",
    "        plt.plot(range(epochs), accs[i][0], label='Train Accuracy')\n",
    "        plt.plot(range(epochs), accs[i][1], label='Test Accuracy')\n",
    "        plt.xlabel('Epochs')\n",
    "        plt.ylabel('Accuracy')\n",
    "        plt.legend()\n",
    "        if (i == 0):\n",
    "            plt.savefig('Q2_batch_size_64.png', bbox_inches='tight', dpi=100)\n",
    "        if (i == 1):\n",
    "            plt.savefig('Q3_neuron_num_25.png', bbox_inches='tight', dpi=100)\n",
    "        if (i == 2):\n",
    "            plt.savefig('Q4_decay_parameter_0.png', bbox_inches='tight', dpi=100)\n",
    "        plt.show()\n",
    "\n",
    "if __name__ == '__main__':\n",
    "    main()"
   ]
  }
 ],
 "metadata": {
  "kernelspec": {
   "display_name": "Python 3",
   "language": "python",
   "name": "python3"
  },
  "language_info": {
   "codemirror_mode": {
    "name": "ipython",
    "version": 3
   },
   "file_extension": ".py",
   "mimetype": "text/x-python",
   "name": "python",
   "nbconvert_exporter": "python",
   "pygments_lexer": "ipython3",
   "version": "3.6.2"
  }
 },
 "nbformat": 4,
 "nbformat_minor": 2
}
