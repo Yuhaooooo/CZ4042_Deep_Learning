{
 "cells": [
  {
   "cell_type": "code",
   "execution_count": null,
   "metadata": {},
   "outputs": [],
   "source": [
    "import pylab as plt\n",
    "import multiprocessing as mp\n",
    "from train import train, epochs\n",
    "\n",
    "def main():\n",
    "    params = []\n",
    "    param1 = {}\n",
    "    param1['weight_decay_parameter'] = 1e-6\n",
    "    param1['batch_size'] = 64 #temp\n",
    "    param1['hidden_layer_neuron_num'] = 5\n",
    "    param1['required'] = 'cross-validation accuracy'\n",
    "    param2 = param1.copy()\n",
    "    param3 = param1.copy()\n",
    "    param4 = param1.copy()\n",
    "    param5 = param1.copy()\n",
    "    \n",
    "    params.append(param1)\n",
    "    param2['hidden_layer_neuron_num'] = 10\n",
    "    params.append(param2)\n",
    "    param3['hidden_layer_neuron_num'] = 15\n",
    "    params.append(param3)\n",
    "    param4['hidden_layer_neuron_num'] = 20\n",
    "    params.append(param4)\n",
    "    param5['hidden_layer_neuron_num'] = 25\n",
    "    params.append(param5)\n",
    "    no_threads = mp.cpu_count()\n",
    "    p = mp.Pool(processes=no_threads)\n",
    "    accs = p.map(train, params)\n",
    "#     accs = []\n",
    "#     for param in params:\n",
    "#         accs.append(train(param))\n",
    "    plt.figure()\n",
    "    for i in range(len(params)):\n",
    "        plt.plot(range(epochs), accs[i][0], label='Number of hidden-layer neurons'\n",
    "                 + str(params[i]['hidden_layer_neuron_num']))\n",
    "    plt.xlabel('epochs')\n",
    "    plt.ylabel('Cross Validation Accuracy')\n",
    "    plt.legend()\n",
    "    plt.show()"
   ]
  }
 ],
 "metadata": {
  "kernelspec": {
   "display_name": "Python 3",
   "language": "python",
   "name": "python3"
  },
  "language_info": {
   "codemirror_mode": {
    "name": "ipython",
    "version": 3
   },
   "file_extension": ".py",
   "mimetype": "text/x-python",
   "name": "python",
   "nbconvert_exporter": "python",
   "pygments_lexer": "ipython3",
   "version": "3.6.2"
  }
 },
 "nbformat": 4,
 "nbformat_minor": 2
}
